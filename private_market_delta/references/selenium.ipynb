{
 "cells": [
  {
   "cell_type": "code",
   "execution_count": 6,
   "metadata": {},
   "outputs": [],
   "source": [
    "from selenium import webdriver\n",
    "from selenium.webdriver.chrome.service import Service\n",
    "from selenium.webdriver.common.keys import Keys\n",
    "from selenium.webdriver.common.by import By\n",
    "from selenium.webdriver.chrome.options import Options\n",
    "from chromedriver_py import binary_path\n",
    "import time"
   ]
  },
  {
   "cell_type": "code",
   "execution_count": 5,
   "metadata": {},
   "outputs": [
    {
     "name": "stdout",
     "output_type": "stream",
     "text": [
      "Collecting chromedriver-py==119.0.6045.105\n",
      "  Downloading chromedriver_py-119.0.6045.105-py3-none-any.whl.metadata (2.1 kB)\n",
      "Downloading chromedriver_py-119.0.6045.105-py3-none-any.whl (41.4 MB)\n",
      "   ---------------------------------------- 0.0/41.4 MB ? eta -:--:--\n",
      "   ---------------------------------------- 0.0/41.4 MB ? eta -:--:--\n",
      "   ---------------------------------------- 0.0/41.4 MB 435.7 kB/s eta 0:01:36\n",
      "   ---------------------------------------- 0.1/41.4 MB 656.4 kB/s eta 0:01:04\n",
      "   ---------------------------------------- 0.1/41.4 MB 1.0 MB/s eta 0:00:40\n",
      "   ---------------------------------------- 0.3/41.4 MB 1.9 MB/s eta 0:00:22\n",
      "   ---------------------------------------- 0.5/41.4 MB 2.7 MB/s eta 0:00:16\n",
      "    --------------------------------------- 0.7/41.4 MB 3.4 MB/s eta 0:00:13\n",
      "   - -------------------------------------- 1.1/41.4 MB 4.3 MB/s eta 0:00:10\n",
      "   - -------------------------------------- 1.8/41.4 MB 6.1 MB/s eta 0:00:07\n",
      "   --- ------------------------------------ 3.2/41.4 MB 9.8 MB/s eta 0:00:04\n",
      "   ----- ---------------------------------- 6.1/41.4 MB 16.9 MB/s eta 0:00:03\n",
      "   ------- -------------------------------- 7.9/41.4 MB 20.2 MB/s eta 0:00:02\n",
      "   ------- -------------------------------- 7.9/41.4 MB 18.8 MB/s eta 0:00:02\n",
      "   -------- ------------------------------- 8.4/41.4 MB 17.9 MB/s eta 0:00:02\n",
      "   -------- ------------------------------- 8.6/41.4 MB 18.2 MB/s eta 0:00:02\n",
      "   -------- ------------------------------- 8.8/41.4 MB 17.1 MB/s eta 0:00:02\n",
      "   -------- ------------------------------- 9.1/41.4 MB 16.7 MB/s eta 0:00:02\n",
      "   --------- ------------------------------ 9.5/41.4 MB 15.9 MB/s eta 0:00:03\n",
      "   --------- ------------------------------ 9.8/41.4 MB 15.7 MB/s eta 0:00:03\n",
      "   --------- ------------------------------ 10.2/41.4 MB 15.2 MB/s eta 0:00:03\n",
      "   ---------- ----------------------------- 10.7/41.4 MB 18.7 MB/s eta 0:00:02\n",
      "   ---------- ----------------------------- 11.2/41.4 MB 20.5 MB/s eta 0:00:02\n",
      "   ----------- ---------------------------- 11.8/41.4 MB 19.8 MB/s eta 0:00:02\n",
      "   ----------- ---------------------------- 12.0/41.4 MB 19.3 MB/s eta 0:00:02\n",
      "   ----------- ---------------------------- 12.4/41.4 MB 19.3 MB/s eta 0:00:02\n",
      "   ------------ --------------------------- 13.2/41.4 MB 18.2 MB/s eta 0:00:02\n",
      "   ------------- -------------------------- 14.0/41.4 MB 17.7 MB/s eta 0:00:02\n",
      "   -------------- ------------------------- 14.9/41.4 MB 16.8 MB/s eta 0:00:02\n",
      "   --------------- ------------------------ 15.7/41.4 MB 16.0 MB/s eta 0:00:02\n",
      "   --------------- ------------------------ 16.5/41.4 MB 14.9 MB/s eta 0:00:02\n",
      "   ----------------- ---------------------- 18.4/41.4 MB 17.2 MB/s eta 0:00:02\n",
      "   ------------------ --------------------- 19.3/41.4 MB 18.2 MB/s eta 0:00:02\n",
      "   ------------------- -------------------- 20.0/41.4 MB 19.8 MB/s eta 0:00:02\n",
      "   -------------------- ------------------- 20.8/41.4 MB 21.8 MB/s eta 0:00:01\n",
      "   -------------------- ------------------- 21.1/41.4 MB 21.8 MB/s eta 0:00:01\n",
      "   -------------------- ------------------- 21.7/41.4 MB 23.4 MB/s eta 0:00:01\n",
      "   --------------------- ------------------ 22.8/41.4 MB 26.2 MB/s eta 0:00:01\n",
      "   ---------------------- ----------------- 23.8/41.4 MB 25.1 MB/s eta 0:00:01\n",
      "   ------------------------ --------------- 25.0/41.4 MB 25.2 MB/s eta 0:00:01\n",
      "   -------------------------- ------------- 27.4/41.4 MB 28.5 MB/s eta 0:00:01\n",
      "   ----------------------------- ---------- 30.7/41.4 MB 40.9 MB/s eta 0:00:01\n",
      "   -------------------------------- ------- 33.9/41.4 MB 65.6 MB/s eta 0:00:01\n",
      "   ------------------------------------ --- 37.3/41.4 MB 93.0 MB/s eta 0:00:01\n",
      "   ---------------------------------------  40.7/41.4 MB 93.9 MB/s eta 0:00:01\n",
      "   ---------------------------------------  41.4/41.4 MB 93.9 MB/s eta 0:00:01\n",
      "   ---------------------------------------  41.4/41.4 MB 93.9 MB/s eta 0:00:01\n",
      "   ---------------------------------------- 41.4/41.4 MB 50.4 MB/s eta 0:00:00\n",
      "Installing collected packages: chromedriver-py\n",
      "Successfully installed chromedriver-py-119.0.6045.105\n"
     ]
    }
   ],
   "source": [
    "# !pip install chromedriver-py==119.0.6045.105"
   ]
  },
  {
   "cell_type": "code",
   "execution_count": 2,
   "metadata": {},
   "outputs": [],
   "source": [
    "website_1 = \"https://www.geekbuying.com/searchword/labtop/\""
   ]
  },
  {
   "cell_type": "code",
   "execution_count": 7,
   "metadata": {},
   "outputs": [],
   "source": [
    "options = webdriver.ChromeOptions()\n",
    "driver = webdriver.Chrome(service=Service(executable_path=binary_path), options=options)"
   ]
  },
  {
   "cell_type": "code",
   "execution_count": 8,
   "metadata": {},
   "outputs": [],
   "source": [
    "driver.get(website_1)"
   ]
  },
  {
   "cell_type": "markdown",
   "metadata": {},
   "source": [
    "# Xpath locator"
   ]
  },
  {
   "cell_type": "markdown",
   "metadata": {},
   "source": [
    "price = driver.find_element_by_xpath('')"
   ]
  }
 ],
 "metadata": {
  "kernelspec": {
   "display_name": ".venv",
   "language": "python",
   "name": "python3"
  },
  "language_info": {
   "codemirror_mode": {
    "name": "ipython",
    "version": 3
   },
   "file_extension": ".py",
   "mimetype": "text/x-python",
   "name": "python",
   "nbconvert_exporter": "python",
   "pygments_lexer": "ipython3",
   "version": "3.11.6"
  }
 },
 "nbformat": 4,
 "nbformat_minor": 2
}
